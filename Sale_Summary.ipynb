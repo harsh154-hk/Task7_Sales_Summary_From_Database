{
 "cells": [
  {
   "cell_type": "markdown",
   "id": "04be8fe4",
   "metadata": {},
   "source": [
    "# Sales Summary from SQLite Database\n",
    "\n",
    "* Importing Required Libraries"
   ]
  },
  {
   "cell_type": "code",
   "execution_count": 1,
   "id": "d2dae577",
   "metadata": {},
   "outputs": [],
   "source": [
    "import sqlite3\n",
    "import pandas as pd\n",
    "import matplotlib.pyplot as plt"
   ]
  },
  {
   "cell_type": "markdown",
   "id": "fccad12c",
   "metadata": {},
   "source": [
    "* Connecting to the Database"
   ]
  },
  {
   "cell_type": "code",
   "execution_count": 4,
   "id": "0dee0fe4",
   "metadata": {},
   "outputs": [
    {
     "name": "stdout",
     "output_type": "stream",
     "text": [
      "Connected to sales_data.db\n"
     ]
    }
   ],
   "source": [
    "conn = sqlite3.connect(\"sales_data.db\")  \n",
    "print(\"Connected to sales_data.db\")"
   ]
  },
  {
   "cell_type": "markdown",
   "id": "eecf0c44",
   "metadata": {},
   "source": [
    "* Runing SQL Query to Get Sales Summary"
   ]
  },
  {
   "cell_type": "code",
   "execution_count": 5,
   "id": "d40b014e",
   "metadata": {},
   "outputs": [],
   "source": [
    "query = '''\n",
    "SELECT \n",
    "    product,\n",
    "    SUM(quantity) AS total_qty,\n",
    "    SUM(quantity * price) AS revenue\n",
    "FROM sales\n",
    "GROUP BY product\n",
    "'''\n",
    "\n",
    "df = pd.read_sql_query(query, conn)"
   ]
  },
  {
   "cell_type": "markdown",
   "id": "4af1b57b",
   "metadata": {},
   "source": [
    "* Display the Sales Summary Table"
   ]
  },
  {
   "cell_type": "code",
   "execution_count": 6,
   "id": "0db1a37e",
   "metadata": {},
   "outputs": [
    {
     "name": "stdout",
     "output_type": "stream",
     "text": [
      "Sales Summary:\n"
     ]
    },
    {
     "data": {
      "text/html": [
       "<div>\n",
       "<style scoped>\n",
       "    .dataframe tbody tr th:only-of-type {\n",
       "        vertical-align: middle;\n",
       "    }\n",
       "\n",
       "    .dataframe tbody tr th {\n",
       "        vertical-align: top;\n",
       "    }\n",
       "\n",
       "    .dataframe thead th {\n",
       "        text-align: right;\n",
       "    }\n",
       "</style>\n",
       "<table border=\"1\" class=\"dataframe\">\n",
       "  <thead>\n",
       "    <tr style=\"text-align: right;\">\n",
       "      <th></th>\n",
       "      <th>product</th>\n",
       "      <th>total_qty</th>\n",
       "      <th>revenue</th>\n",
       "    </tr>\n",
       "  </thead>\n",
       "  <tbody>\n",
       "    <tr>\n",
       "      <th>0</th>\n",
       "      <td>4K Monitor 27-inch</td>\n",
       "      <td>15</td>\n",
       "      <td>4499.85</td>\n",
       "    </tr>\n",
       "    <tr>\n",
       "      <th>1</th>\n",
       "      <td>Adjustable Laptop Stand</td>\n",
       "      <td>70</td>\n",
       "      <td>2799.30</td>\n",
       "    </tr>\n",
       "    <tr>\n",
       "      <th>2</th>\n",
       "      <td>Bluetooth Speaker Pro</td>\n",
       "      <td>80</td>\n",
       "      <td>2399.20</td>\n",
       "    </tr>\n",
       "    <tr>\n",
       "      <th>3</th>\n",
       "      <td>Desk Organizer Set</td>\n",
       "      <td>110</td>\n",
       "      <td>2748.90</td>\n",
       "    </tr>\n",
       "    <tr>\n",
       "      <th>4</th>\n",
       "      <td>Digital Alarm Clock</td>\n",
       "      <td>45</td>\n",
       "      <td>899.55</td>\n",
       "    </tr>\n",
       "    <tr>\n",
       "      <th>5</th>\n",
       "      <td>EcoFriendly Notebook</td>\n",
       "      <td>50</td>\n",
       "      <td>249.50</td>\n",
       "    </tr>\n",
       "    <tr>\n",
       "      <th>6</th>\n",
       "      <td>Ergonomic Office Chair</td>\n",
       "      <td>25</td>\n",
       "      <td>3750.00</td>\n",
       "    </tr>\n",
       "    <tr>\n",
       "      <th>7</th>\n",
       "      <td>External Hard Drive 1TB</td>\n",
       "      <td>55</td>\n",
       "      <td>3575.00</td>\n",
       "    </tr>\n",
       "    <tr>\n",
       "      <th>8</th>\n",
       "      <td>Fitness Tracker Band</td>\n",
       "      <td>75</td>\n",
       "      <td>3375.00</td>\n",
       "    </tr>\n",
       "    <tr>\n",
       "      <th>9</th>\n",
       "      <td>Gaming Keyboard Ultra</td>\n",
       "      <td>40</td>\n",
       "      <td>1998.00</td>\n",
       "    </tr>\n",
       "    <tr>\n",
       "      <th>10</th>\n",
       "      <td>LED Flashlight Torch</td>\n",
       "      <td>130</td>\n",
       "      <td>1235.00</td>\n",
       "    </tr>\n",
       "    <tr>\n",
       "      <th>11</th>\n",
       "      <td>Noise Cancelling Headphones</td>\n",
       "      <td>30</td>\n",
       "      <td>2699.70</td>\n",
       "    </tr>\n",
       "    <tr>\n",
       "      <th>12</th>\n",
       "      <td>Portable Power Bank</td>\n",
       "      <td>150</td>\n",
       "      <td>2812.50</td>\n",
       "    </tr>\n",
       "    <tr>\n",
       "      <th>13</th>\n",
       "      <td>Reusable Coffee Cup</td>\n",
       "      <td>140</td>\n",
       "      <td>1645.00</td>\n",
       "    </tr>\n",
       "    <tr>\n",
       "      <th>14</th>\n",
       "      <td>Smart LED Desk Lamp</td>\n",
       "      <td>60</td>\n",
       "      <td>1326.00</td>\n",
       "    </tr>\n",
       "    <tr>\n",
       "      <th>15</th>\n",
       "      <td>Smartphone Tripod</td>\n",
       "      <td>95</td>\n",
       "      <td>1424.05</td>\n",
       "    </tr>\n",
       "    <tr>\n",
       "      <th>16</th>\n",
       "      <td>Stainless Steel Water Bottle</td>\n",
       "      <td>100</td>\n",
       "      <td>1225.00</td>\n",
       "    </tr>\n",
       "    <tr>\n",
       "      <th>17</th>\n",
       "      <td>USB-C Hub Multiport</td>\n",
       "      <td>90</td>\n",
       "      <td>3105.00</td>\n",
       "    </tr>\n",
       "    <tr>\n",
       "      <th>18</th>\n",
       "      <td>Wireless Charger Pad</td>\n",
       "      <td>85</td>\n",
       "      <td>1700.00</td>\n",
       "    </tr>\n",
       "    <tr>\n",
       "      <th>19</th>\n",
       "      <td>Wireless Mouse X200</td>\n",
       "      <td>120</td>\n",
       "      <td>1858.80</td>\n",
       "    </tr>\n",
       "  </tbody>\n",
       "</table>\n",
       "</div>"
      ],
      "text/plain": [
       "                         product  total_qty  revenue\n",
       "0             4K Monitor 27-inch         15  4499.85\n",
       "1        Adjustable Laptop Stand         70  2799.30\n",
       "2          Bluetooth Speaker Pro         80  2399.20\n",
       "3             Desk Organizer Set        110  2748.90\n",
       "4            Digital Alarm Clock         45   899.55\n",
       "5           EcoFriendly Notebook         50   249.50\n",
       "6         Ergonomic Office Chair         25  3750.00\n",
       "7        External Hard Drive 1TB         55  3575.00\n",
       "8           Fitness Tracker Band         75  3375.00\n",
       "9          Gaming Keyboard Ultra         40  1998.00\n",
       "10          LED Flashlight Torch        130  1235.00\n",
       "11   Noise Cancelling Headphones         30  2699.70\n",
       "12           Portable Power Bank        150  2812.50\n",
       "13           Reusable Coffee Cup        140  1645.00\n",
       "14           Smart LED Desk Lamp         60  1326.00\n",
       "15             Smartphone Tripod         95  1424.05\n",
       "16  Stainless Steel Water Bottle        100  1225.00\n",
       "17           USB-C Hub Multiport         90  3105.00\n",
       "18          Wireless Charger Pad         85  1700.00\n",
       "19           Wireless Mouse X200        120  1858.80"
      ]
     },
     "metadata": {},
     "output_type": "display_data"
    }
   ],
   "source": [
    "print(\"Sales Summary:\")\n",
    "display(df)"
   ]
  },
  {
   "cell_type": "markdown",
   "id": "21adf122",
   "metadata": {},
   "source": [
    "* Plot Bar Chart of Revenue per Product"
   ]
  },
  {
   "cell_type": "code",
   "execution_count": 7,
   "id": "c56f3d54",
   "metadata": {},
   "outputs": [
    {
     "data": {
      "image/png": "[encoded data removed]",
      "text/plain": [
       "<Figure size 640x480 with 1 Axes>"
      ]
     },
     "metadata": {},
     "output_type": "display_data"
    }
   ],
   "source": [
    "df.plot(kind='bar', x='product', y='revenue', legend=False, color='skyblue')\n",
    "plt.title(\"Revenue per Product\")\n",
    "plt.xlabel(\"Product\")\n",
    "plt.ylabel(\"Revenue\")\n",
    "plt.tight_layout()\n",
    "plt.show()"
   ]
  },
  {
   "cell_type": "markdown",
   "id": "ced14bc9",
   "metadata": {},
   "source": [
    "* Save the Chart as an Image"
   ]
  },
  {
   "cell_type": "code",
   "execution_count": 8,
   "id": "33ac495f",
   "metadata": {},
   "outputs": [
    {
     "data": {
      "text/plain": [
       "<Figure size 640x480 with 0 Axes>"
      ]
     },
     "metadata": {},
     "output_type": "display_data"
    }
   ],
   "source": [
    "plt.figure()\n",
    "df.plot(kind='bar', x='product', y='revenue', legend=False, color='orange')\n",
    "plt.title(\"Revenue per Product\")\n",
    "plt.ylabel(\"Revenue\")\n",
    "plt.tight_layout()\n",
    "plt.savefig(\"sales_chart.png\")\n",
    "plt.close()"
   ]
  },
  {
   "cell_type": "markdown",
   "id": "8583b935",
   "metadata": {},
   "source": [
    "* Closing Database Connection"
   ]
  },
  {
   "cell_type": "code",
   "execution_count": 9,
   "id": "837f1e37",
   "metadata": {},
   "outputs": [
    {
     "name": "stdout",
     "output_type": "stream",
     "text": [
      "Connection closed.\n"
     ]
    }
   ],
   "source": [
    "conn.close()\n",
    "print(\"Connection closed.\")"
   ]
  }
 ],
 "metadata": {
  "kernelspec": {
   "display_name": "Python 3",
   "language": "python",
   "name": "python3"
  },
  "language_info": {
   "codemirror_mode": {
    "name": "ipython",
    "version": 3
   },
   "file_extension": ".py",
   "mimetype": "text/x-python",
   "name": "python",
   "nbconvert_exporter": "python",
   "pygments_lexer": "ipython3",
   "version": "3.13.1"
  }
 },
 "nbformat": 4,
 "nbformat_minor": 5
}
